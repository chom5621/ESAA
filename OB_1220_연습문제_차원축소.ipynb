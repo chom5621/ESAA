{
  "nbformat": 4,
  "nbformat_minor": 0,
  "metadata": {
    "colab": {
      "name": "OB 1220 연습문제 차원축소.ipynb",
      "provenance": [],
      "collapsed_sections": [],
      "include_colab_link": true
    },
    "kernelspec": {
      "name": "python3",
      "display_name": "Python 3"
    },
    "language_info": {
      "name": "python"
    }
  },
  "cells": [
    {
      "cell_type": "markdown",
      "metadata": {
        "id": "view-in-github",
        "colab_type": "text"
      },
      "source": [
        "<a href=\"https://colab.research.google.com/github/chom5621/ESAA/blob/main/OB_1220_%EC%97%B0%EC%8A%B5%EB%AC%B8%EC%A0%9C_%EC%B0%A8%EC%9B%90%EC%B6%95%EC%86%8C.ipynb\" target=\"_parent\"><img src=\"https://colab.research.google.com/assets/colab-badge.svg\" alt=\"Open In Colab\"/></a>"
      ]
    },
    {
      "cell_type": "markdown",
      "metadata": {
        "id": "9dqhGeEZiQn-"
      },
      "source": [
        "1. 데이터셋의 차원을 축소하는 목적은 무엇인가요? 대표적인 단점은 무엇인가요?"
      ]
    },
    {
      "cell_type": "markdown",
      "metadata": {
        "id": "KjQ1_L_FiqDb"
      },
      "source": [
        "**목적**\n",
        "\n",
        "**- 훈련 데이터의 훈련 속도를 높일 수 있다.**\n",
        "\n",
        "**- 데이터 시각화에 유용하며 이를 통해 중요한 통찰을 얻을 수 있다.**\n",
        "\n",
        "\n"
      ]
    },
    {
      "cell_type": "markdown",
      "source": [
        "**단점**\n",
        "\n",
        "**- 차원을 축소시키면 일부 정보가 유실된다. 그래서 훈련 속도가 빨라질 수는 있지만 시스템의 성능이 조금 나빠질 수 있다.**\n",
        "\n",
        "**- 작업 파이프라인이 조금 더 복잡하게 되고 유지 관리가 어려워진다.** "
      ],
      "metadata": {
        "id": "G7oe4ABqUkiv"
      }
    },
    {
      "cell_type": "markdown",
      "metadata": {
        "id": "koJ9d34cibn2"
      },
      "source": [
        "2. 기본 PCA, 점진적 PCA, 랜덤 PCA,커널 PCA는 어느 경우에 사용될까요?"
      ]
    },
    {
      "cell_type": "markdown",
      "metadata": {
        "id": "P9e-3-HzimIE"
      },
      "source": [
        "**기본 PCA**\n",
        "\n",
        "**- 압축을 위해 사용한다. 차원을 축소하여, 훈련 세트의 크기를 줄인다.**\n",
        "\n",
        "**점진적 PCA**\n",
        "\n",
        "**- SVD 알고리즘을 실행하기 위해 전체 훈련 메모리에 올려야 할 때 사용한다.**\n",
        "\n",
        "**- 훈련 세트의 크기가 클 때 유용하여, 새로운 데이터를 실시간으로 적용할 수 있다.**\n",
        "\n",
        "**랜덤 PCA**\n",
        "\n",
        "**- 알고리즘의 계산 복잡도를 줄이기 위해 사용한다.**\n",
        "\n",
        "**커널 PCA**\n",
        "\n",
        "**- 복잡한 비선형 투영을 수행할 수 있다.**"
      ]
    },
    {
      "cell_type": "markdown",
      "metadata": {
        "id": "28ZlnWKbi-fL"
      },
      "source": [
        "3. MNIST 데이터셋을 로드하고 훈련세트와 테스트세트로 분할하겠습니다."
      ]
    },
    {
      "cell_type": "markdown",
      "metadata": {
        "id": "NaWuyONJk_6l"
      },
      "source": [
        "# 모듈 설정 및 데이터 불러오기"
      ]
    },
    {
      "cell_type": "code",
      "metadata": {
        "id": "vC5y5w5TjJeb"
      },
      "source": [
        "# 파이썬 ≥3.5 필수\n",
        "import sys\n",
        "assert sys.version_info >= (3, 5)\n",
        "\n",
        "# 사이킷런 ≥0.20 필수\n",
        "import sklearn\n",
        "assert sklearn.__version__ >= \"0.20\"\n",
        "\n",
        "# 공통 모듈 임포트\n",
        "import numpy as np\n",
        "import os\n",
        "\n",
        "# 노트북 실행 결과를 동일하게 유지하기 위해\n",
        "np.random.seed(42)\n",
        "\n",
        "# MNIST 불러오기\n",
        "from sklearn.datasets import fetch_openml\n",
        "\n",
        "mnist = fetch_openml('mnist_784', version=1, as_frame=False)\n",
        "mnist.target = mnist.target.astype(np.uint8)"
      ],
      "execution_count": 1,
      "outputs": []
    },
    {
      "cell_type": "markdown",
      "metadata": {
        "id": "sE46F301lsCK"
      },
      "source": [
        "# 훈련세트와 테스트세트로 분할"
      ]
    },
    {
      "cell_type": "code",
      "metadata": {
        "id": "3FCer4bbjI_E"
      },
      "source": [
        "# 첫 60000개는 훈련을 위한 샘플, 나머지 10000개는 테스트용으로 분할\n",
        "X_train = mnist['data'][:60000]\n",
        "y_train = mnist['target'][:60000]\n",
        "\n",
        "X_test = mnist['data'][60000:]\n",
        "y_test = mnist['target'][60000:]"
      ],
      "execution_count": 2,
      "outputs": []
    },
    {
      "cell_type": "markdown",
      "metadata": {
        "id": "1xe-EAtul6hi"
      },
      "source": [
        "3.1 이 데이터셋을 랜덤 포레스트 분류기로 훈련시키고 시간이 얼마나 오래걸리는지 시간을 잰 후, 테스트 세트로 만들어진 모델의 정확도를 평가합니다."
      ]
    },
    {
      "cell_type": "code",
      "metadata": {
        "id": "0onbkszcmNPQ"
      },
      "source": [
        "# 랜덤포레스트로 훈련시키는 코드\n",
        "from sklearn.ensemble import RandomForestClassifier\n",
        "\n",
        "rnd_clf = RandomForestClassifier(n_estimators=100, random_state=42)"
      ],
      "execution_count": 3,
      "outputs": []
    },
    {
      "cell_type": "code",
      "metadata": {
        "colab": {
          "base_uri": "https://localhost:8080/"
        },
        "id": "MTY66DlXmWGv",
        "outputId": "7940c60c-f52f-4b66-f992-9f02395f830e"
      },
      "source": [
        "# 훈련 시간을 재는 코드입니다.\n",
        "import time\n",
        "\n",
        "t0 = time.time()\n",
        "rnd_clf.fit(X_train, y_train)\n",
        "t1 = time.time()\n",
        "\n",
        "print(\"훈련 시간: {:.2f}s\".format(t1 - t0))"
      ],
      "execution_count": 4,
      "outputs": [
        {
          "output_type": "stream",
          "name": "stdout",
          "text": [
            "훈련 시간: 49.19s\n"
          ]
        }
      ]
    },
    {
      "cell_type": "code",
      "metadata": {
        "colab": {
          "base_uri": "https://localhost:8080/"
        },
        "id": "klCgXFh3mz-H",
        "outputId": "06fc6cb7-d170-48fc-f769-10082328b065"
      },
      "source": [
        "# 정확도 평가 코드입니다.\n",
        "from sklearn.metrics import accuracy_score\n",
        "\n",
        "y_pred = rnd_clf.predict(X_test)\n",
        "accuracy_score(y_test, y_pred)"
      ],
      "execution_count": 5,
      "outputs": [
        {
          "output_type": "execute_result",
          "data": {
            "text/plain": [
              "0.9705"
            ]
          },
          "metadata": {},
          "execution_count": 5
        }
      ]
    },
    {
      "cell_type": "markdown",
      "metadata": {
        "id": "tme14Nezm8fI"
      },
      "source": [
        "**3.2 문제 : 데이터셋을 PCA를 사용해 설명된 분산이 95%가 되도록 차원을 축소하세요**"
      ]
    },
    {
      "cell_type": "code",
      "metadata": {
        "id": "6xmHLxA-nGkb"
      },
      "source": [
        "from sklearn.decomposition import PCA\n",
        "pca = PCA(n_components=0.95)\n",
        "X_reduced = pca.fit_transform(X_train)"
      ],
      "execution_count": 6,
      "outputs": []
    },
    {
      "cell_type": "markdown",
      "metadata": {
        "id": "5JHF-cvTnH_t"
      },
      "source": [
        "**3.3 문제 : 이 축소된 데이터셋에 위와 같이 새로운 랜덤포레스트 분류기를 훈련시키고 얼마나 오래걸리는지 확인합니다. 훈련 시간이 빨라졌나요?**"
      ]
    },
    {
      "cell_type": "code",
      "metadata": {
        "id": "iJwlAOF2nfiE",
        "colab": {
          "base_uri": "https://localhost:8080/"
        },
        "outputId": "d4991ec9-4380-4134-a9f4-4b0cf1ce5f6e"
      },
      "source": [
        "t0 = time.time()\n",
        "rnd_clf.fit(X_reduced, y_train)\n",
        "t1 = time.time()\n",
        "\n",
        "print(\"훈련 시간: {:.2f}s\".format(t1 - t0))"
      ],
      "execution_count": 7,
      "outputs": [
        {
          "output_type": "stream",
          "name": "stdout",
          "text": [
            "훈련 시간: 121.93s\n"
          ]
        }
      ]
    },
    {
      "cell_type": "markdown",
      "metadata": {
        "id": "5akaZqgnnkIZ"
      },
      "source": [
        "**3.4 문제: 이 테스트 세트에서 이 분류기의 정확도를 평가해보세요. 이전 분류기와 비교해서 어떤가요?**"
      ]
    },
    {
      "cell_type": "code",
      "metadata": {
        "id": "aUsCD5QDnhDn",
        "colab": {
          "base_uri": "https://localhost:8080/"
        },
        "outputId": "f7acdc15-5655-4c01-d3e8-d7a71ce2d7d6"
      },
      "source": [
        "X_test_reduced = pca.transform(X_test)\n",
        "\n",
        "y_pred_reduced = rnd_clf.predict(X_test_reduced)\n",
        "\n",
        "accuracy_score(y_test, y_pred_reduced)"
      ],
      "execution_count": 8,
      "outputs": [
        {
          "output_type": "execute_result",
          "data": {
            "text/plain": [
              "0.9481"
            ]
          },
          "metadata": {},
          "execution_count": 8
        }
      ]
    },
    {
      "cell_type": "markdown",
      "metadata": {
        "id": "1z6q2On3ocXr"
      },
      "source": [
        "3.5 소프트 맥스 회귀를 사용해서도 같은 방식으로 실험을 해봅니다."
      ]
    },
    {
      "cell_type": "code",
      "metadata": {
        "id": "14CAbbqVojVi",
        "colab": {
          "base_uri": "https://localhost:8080/"
        },
        "outputId": "57130550-e7aa-41b5-8f1d-fc7b69695958"
      },
      "source": [
        "# 차원축소 이전의 코드\n",
        "from sklearn.linear_model import LogisticRegression\n",
        "\n",
        "log_clf = LogisticRegression(multi_class=\"multinomial\", solver=\"lbfgs\", random_state=42)\n",
        "t0 = time.time()\n",
        "log_clf.fit(X_train, y_train)\n",
        "t1 = time.time()"
      ],
      "execution_count": 9,
      "outputs": [
        {
          "output_type": "stream",
          "name": "stderr",
          "text": [
            "/usr/local/lib/python3.7/dist-packages/sklearn/linear_model/_logistic.py:818: ConvergenceWarning: lbfgs failed to converge (status=1):\n",
            "STOP: TOTAL NO. of ITERATIONS REACHED LIMIT.\n",
            "\n",
            "Increase the number of iterations (max_iter) or scale the data as shown in:\n",
            "    https://scikit-learn.org/stable/modules/preprocessing.html\n",
            "Please also refer to the documentation for alternative solver options:\n",
            "    https://scikit-learn.org/stable/modules/linear_model.html#logistic-regression\n",
            "  extra_warning_msg=_LOGISTIC_SOLVER_CONVERGENCE_MSG,\n"
          ]
        }
      ]
    },
    {
      "cell_type": "code",
      "metadata": {
        "id": "H8YQXt91ovnL",
        "colab": {
          "base_uri": "https://localhost:8080/"
        },
        "outputId": "9f285bdb-1233-4b18-b2ea-0fa11b93da11"
      },
      "source": [
        "print(\"훈련 시간: {:.2f}s\".format(t1 - t0))"
      ],
      "execution_count": 10,
      "outputs": [
        {
          "output_type": "stream",
          "name": "stdout",
          "text": [
            "훈련 시간: 43.79s\n"
          ]
        }
      ]
    },
    {
      "cell_type": "code",
      "metadata": {
        "id": "DJMencFdoxIE",
        "colab": {
          "base_uri": "https://localhost:8080/"
        },
        "outputId": "127d2553-a5cb-4d03-aefc-70faede3c19d"
      },
      "source": [
        "y_pred = log_clf.predict(X_test)\n",
        "accuracy_score(y_test, y_pred)"
      ],
      "execution_count": 11,
      "outputs": [
        {
          "output_type": "execute_result",
          "data": {
            "text/plain": [
              "0.9255"
            ]
          },
          "metadata": {},
          "execution_count": 11
        }
      ]
    },
    {
      "cell_type": "markdown",
      "metadata": {
        "id": "_SR8DpJTozQz"
      },
      "source": [
        "**3.6 문제 : 3.2에서 축소된 데이터 셋을 사용해 소프트맥스 회귀모델을 훈련시켜보세요. 그리고 훈련시간을 확인하세요**"
      ]
    },
    {
      "cell_type": "code",
      "metadata": {
        "id": "cj2v-6BzpMW0",
        "colab": {
          "base_uri": "https://localhost:8080/"
        },
        "outputId": "786f6a8d-d37c-4faa-f6f7-3dc916df5cce"
      },
      "source": [
        "t0 = time.time()\n",
        "log_clf.fit(X_reduced, y_train)\n",
        "t1 = time.time()\n",
        "\n",
        "print(\"훈련 시간: {:.2f}s\".format(t1 - t0))"
      ],
      "execution_count": 12,
      "outputs": [
        {
          "output_type": "stream",
          "name": "stdout",
          "text": [
            "훈련 시간: 13.84s\n"
          ]
        },
        {
          "output_type": "stream",
          "name": "stderr",
          "text": [
            "/usr/local/lib/python3.7/dist-packages/sklearn/linear_model/_logistic.py:818: ConvergenceWarning: lbfgs failed to converge (status=1):\n",
            "STOP: TOTAL NO. of ITERATIONS REACHED LIMIT.\n",
            "\n",
            "Increase the number of iterations (max_iter) or scale the data as shown in:\n",
            "    https://scikit-learn.org/stable/modules/preprocessing.html\n",
            "Please also refer to the documentation for alternative solver options:\n",
            "    https://scikit-learn.org/stable/modules/linear_model.html#logistic-regression\n",
            "  extra_warning_msg=_LOGISTIC_SOLVER_CONVERGENCE_MSG,\n"
          ]
        }
      ]
    },
    {
      "cell_type": "markdown",
      "metadata": {
        "id": "wMy1L2nSpWZm"
      },
      "source": [
        "**3.7 문제 : 모델의 정확도도 확인해보세요**"
      ]
    },
    {
      "cell_type": "code",
      "metadata": {
        "id": "hQtH-9ghpkw3",
        "colab": {
          "base_uri": "https://localhost:8080/"
        },
        "outputId": "fcef3ab1-6416-4f9f-91e6-40c992d65c51"
      },
      "source": [
        "y_pred_reduced = log_clf.predict(X_test_reduced)\n",
        "\n",
        "accuracy_score(y_test, y_pred_reduced)"
      ],
      "execution_count": 13,
      "outputs": [
        {
          "output_type": "execute_result",
          "data": {
            "text/plain": [
              "0.9201"
            ]
          },
          "metadata": {},
          "execution_count": 13
        }
      ]
    },
    {
      "cell_type": "markdown",
      "metadata": {
        "id": "55eN4bcItVNl"
      },
      "source": [
        "**3.8 문제 : 랜덤포레스트 모형의 훈련시간과 정확도, 소프트맥스 모형의 훈련시간과 정확도를 비교해보세요.**"
      ]
    },
    {
      "cell_type": "markdown",
      "metadata": {
        "id": "FZfgxC2vtW-d"
      },
      "source": [
        "**훈련세트 차원축소 결과, 랜덤포레스트 모형의 훈련시간은 오히려 2배 이상 증가했고, 정확도 또한 떨어지는 것을 확인할 수 있었다. 차원 축소는 언제나 훈련 시간을 줄여주지 못한다는 것을 알 수 있었다.**\n",
        "\n",
        "**반면 소프트맥스 모형에서는 차원축소된 데이터셋의 훈련시간이 매우 감소한 것을 확인할 수 있었으며, 그 대신 차원축소로 인해 정확도가 떨어지는 단점도 찾을 수 있었다.**"
      ]
    }
  ]
}