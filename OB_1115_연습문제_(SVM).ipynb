{
  "nbformat": 4,
  "nbformat_minor": 0,
  "metadata": {
    "colab": {
      "name": "OB_1115_연습문제_(SVM).ipynb",
      "provenance": [],
      "collapsed_sections": []
    },
    "kernelspec": {
      "name": "python3",
      "display_name": "Python 3"
    },
    "language_info": {
      "name": "python"
    }
  },
  "cells": [
    {
      "cell_type": "markdown",
      "metadata": {
        "id": "CjaYSVJyWEcc"
      },
      "source": [
        "**2. 서포트 벡터가 무엇인가요?**"
      ]
    },
    {
      "cell_type": "markdown",
      "metadata": {
        "id": "q7aP2nkfXAq5"
      },
      "source": [
        "**답** : SVM 분류기의 결정 경계(도로 경계)에 위치한 샘플\n",
        "\n",
        "도로 경계에 위치한 샘플에 의해 전적으로 결정되는데 이러한 샘플을 서포트 벡터라고 한다. 도로 바깥쪽에 샘플을 더 추가해도 결정 경계에는 아무런 영향을 미치지 않는다.\n",
        "\n",
        "(교재 206p)\n"
      ]
    },
    {
      "cell_type": "markdown",
      "metadata": {
        "id": "l-8URMsSF5-a"
      },
      "source": [
        "**3. SVM을 사용할 때 입력값의 스케일이 왜 중요한가요?**"
      ]
    },
    {
      "cell_type": "markdown",
      "metadata": {
        "id": "uW2v-wnOF8UW"
      },
      "source": [
        "**답** : SVM은 특성의 스케일에 민감하기 때문이다.\n",
        "\n",
        "만약 수직축의 스케일이 수평축의 스케일보다 훨씬 크게 되면 가장 넓은 도로가 거의 수평에 가깝게 된다. \n",
        "\n",
        "특성의 스케일을 조정하면(사이킷런의 StandardScaler 등을 사용하여) 결정 경계가 훨씬 좋아지므로,  입력값의 스케일이 중요하다.\n",
        "\n",
        "(교재 206p)"
      ]
    },
    {
      "cell_type": "markdown",
      "metadata": {
        "id": "TfRaWu4dXDsf"
      },
      "source": [
        "**8. 선형적으로 분리되는 데이터셋에 LinearSVC를 훈련시켜보세요. 그런 다음 같은 데이터셋에 SVC와 SGDClassifier를 적용해보세요. 거의 비슷한 모델이 만들어지는지 확인해보세요.**"
      ]
    },
    {
      "cell_type": "code",
      "metadata": {
        "id": "yj2Fd6v7XJpv"
      },
      "source": [
        "from sklearn import datasets\n",
        "import numpy as np\n",
        "from sklearn.svm import LinearSVC, SVC\n",
        "from sklearn.linear_model import SGDClassifier\n",
        "from sklearn.preprocessing import StandardScaler\n",
        "import matplotlib.pyplot as plt"
      ],
      "execution_count": 1,
      "outputs": []
    },
    {
      "cell_type": "code",
      "metadata": {
        "id": "Fwz70i3mBV-9"
      },
      "source": [
        "# iris data를 로드하고 x,y를 지정해줍니다.\n",
        "#(힌트: 핸즈온 머신러닝 교재 208쪽 참고)\n",
        "\n",
        "iris= datasets.load_iris()\n",
        "X = iris['data'][:,(2,3)] \n",
        "y = iris['target']\n",
        "\n",
        "setosa_or_versicolor = (y==0) | (y == 1)\n",
        "X = X[setosa_or_versicolor]\n",
        "y = y[setosa_or_versicolor]"
      ],
      "execution_count": 19,
      "outputs": []
    },
    {
      "cell_type": "code",
      "metadata": {
        "id": "3_FHdGvaEE2Q"
      },
      "source": [
        "C = 5 \n",
        "alpha = 1 / (C * len(X))"
      ],
      "execution_count": 20,
      "outputs": []
    },
    {
      "cell_type": "code",
      "metadata": {
        "id": "aupH_y9REIv5"
      },
      "source": [
        "# LinearSVC 학습하기\n",
        "\n",
        "lin_svc = LinearSVC(loss='hinge',C=C,random_state=42)\n",
        "svc = SVC(kernel='linear',C=C)\n",
        "sgd_clf = SGDClassifier(loss='hinge', learning_rate = 'constant', eta0=0.001, tol=1e-3,alpha=alpha,\n",
        "                       max_iter=100000, random_state=42)"
      ],
      "execution_count": 21,
      "outputs": []
    },
    {
      "cell_type": "code",
      "metadata": {
        "colab": {
          "base_uri": "https://localhost:8080/"
        },
        "id": "QrLXlqEbFaI8",
        "outputId": "4ff13e06-05b9-463c-f742-c6a6060fa707"
      },
      "source": [
        "# 위를 이용하여 데이터 스케일링 후 LinearSVC, SVC, SGDClassifier 구하기\n",
        "\n",
        "scaler = StandardScaler()\n",
        "X_scaled = scaler.fit_transform(X)\n",
        "\n",
        "# LinearSVC \n",
        "lin_svc.fit(X_scaled, y)\n",
        "\n",
        "# SVC\n",
        "svc.fit(X_scaled, y)\n",
        "\n",
        "# LinearSVC \n",
        "sgd_clf.fit(X_scaled, y)"
      ],
      "execution_count": 22,
      "outputs": [
        {
          "output_type": "execute_result",
          "data": {
            "text/plain": [
              "SGDClassifier(alpha=0.002, average=False, class_weight=None,\n",
              "              early_stopping=False, epsilon=0.1, eta0=0.001, fit_intercept=True,\n",
              "              l1_ratio=0.15, learning_rate='constant', loss='hinge',\n",
              "              max_iter=100000, n_iter_no_change=5, n_jobs=None, penalty='l2',\n",
              "              power_t=0.5, random_state=42, shuffle=True, tol=0.001,\n",
              "              validation_fraction=0.1, verbose=0, warm_start=False)"
            ]
          },
          "metadata": {},
          "execution_count": 22
        }
      ]
    },
    {
      "cell_type": "code",
      "metadata": {
        "colab": {
          "base_uri": "https://localhost:8080/"
        },
        "id": "tQ6cAKlFHD-o",
        "outputId": "be240ccb-0cdc-4b9a-c6ac-e8fbd170cb12"
      },
      "source": [
        "print('LinearSVC :', lin_svc.intercept_, lin_svc.coef_)\n",
        "print('SVC :', svc.intercept_, svc.coef_)\n",
        "print('SGDClassifier :', sgd_clf.intercept_, sgd_clf.coef_)"
      ],
      "execution_count": 23,
      "outputs": [
        {
          "output_type": "stream",
          "name": "stdout",
          "text": [
            "LinearSVC : [0.28474272] [[1.05364736 1.09903308]]\n",
            "SVC : [0.31896852] [[1.1203284  1.02625193]]\n",
            "SGDClassifier : [0.117] [[0.77714169 0.72981762]]\n"
          ]
        }
      ]
    },
    {
      "cell_type": "code",
      "metadata": {
        "id": "8tTbQTEpBWIC",
        "colab": {
          "base_uri": "https://localhost:8080/",
          "height": 715
        },
        "outputId": "6b4d48c0-250a-4b43-f3ab-9c9428c0db95"
      },
      "source": [
        "# 세 개 모델의 결정 경계를 그리기\n",
        "# 먼저 결정 경계들의 기울기(W)와 편향(b)을 구함\n",
        "\n",
        "w1 = -lin_svc.coef_[0,0] / lin_svc.coef_[0,1]\n",
        "b1 = -lin_svc.intercept_[0] / lin_svc.coef_[0,1]\n",
        "w2 = -svc.coef_[0, 0]/svc.coef_[0, 1]\n",
        "b2 = -svc.intercept_[0]/svc.coef_[0, 1]\n",
        "w3 = -sgd_clf.coef_[0, 0]/sgd_clf.coef_[0, 1]\n",
        "b3 = -sgd_clf.intercept_[0]/sgd_clf.coef_[0, 1]\n",
        "\n",
        "# 결정 경계를 원본 스케일로 변환하기 (3개 모델의 범위를 같게 하기 위해)\n",
        "line1 = scaler.inverse_transform([[-10,-10*w1+b1],[10,10*w1+b1]])\n",
        "line2 = scaler.inverse_transform([[-10,-10*w2+b2],[10,10*w2+b2]])\n",
        "line3 = scaler.inverse_transform([[-10,-10*w3+b3],[10,10*w3+b3]])\n",
        "\n",
        "# 세 개의 결정 경계를 모두 그리자\n",
        "plt.figure(figsize=(11,4))\n",
        "plt.plot(line1[:,0], line1[:,1], \"k:\",label=\"LinearSVC\")\n",
        "plt.plot(line2[:,0],line2[:,1],\"b--\",linewidth=2,label=\"SVC\")\n",
        "plt.plot(line3[:,0],line3[:,1],'r-',label=\"SGDClassifier\")\n",
        "\n",
        "plt.plot(X[:,0][y==1],X[:,1][y==1], 'bs')\n",
        "plt.plot(X[:,0][y==0],X[:,1][y==0],'yo')\n",
        "\n",
        "plt.xlabel(\"꽃잎 길이\", fontsize=14)\n",
        "plt.ylabel(\"꽃잎 너비\",fontsize=14)\n",
        "plt.legend(loc='upper center',fontsize=14)\n",
        "plt.axis([0,5.5,0,2])\n",
        "plt.show()\n",
        "\n",
        "# 아주 비슷한 결정 경계를 보인다. "
      ],
      "execution_count": 35,
      "outputs": [
        {
          "output_type": "stream",
          "name": "stderr",
          "text": [
            "/usr/local/lib/python3.7/dist-packages/matplotlib/backends/backend_agg.py:214: RuntimeWarning: Glyph 44867 missing from current font.\n",
            "  font.set_text(s, 0.0, flags=flags)\n",
            "/usr/local/lib/python3.7/dist-packages/matplotlib/backends/backend_agg.py:214: RuntimeWarning: Glyph 51086 missing from current font.\n",
            "  font.set_text(s, 0.0, flags=flags)\n",
            "/usr/local/lib/python3.7/dist-packages/matplotlib/backends/backend_agg.py:214: RuntimeWarning: Glyph 44600 missing from current font.\n",
            "  font.set_text(s, 0.0, flags=flags)\n",
            "/usr/local/lib/python3.7/dist-packages/matplotlib/backends/backend_agg.py:214: RuntimeWarning: Glyph 51060 missing from current font.\n",
            "  font.set_text(s, 0.0, flags=flags)\n",
            "/usr/local/lib/python3.7/dist-packages/matplotlib/backends/backend_agg.py:214: RuntimeWarning: Glyph 45320 missing from current font.\n",
            "  font.set_text(s, 0.0, flags=flags)\n",
            "/usr/local/lib/python3.7/dist-packages/matplotlib/backends/backend_agg.py:214: RuntimeWarning: Glyph 48708 missing from current font.\n",
            "  font.set_text(s, 0.0, flags=flags)\n",
            "/usr/local/lib/python3.7/dist-packages/matplotlib/backends/backend_agg.py:183: RuntimeWarning: Glyph 44867 missing from current font.\n",
            "  font.set_text(s, 0, flags=flags)\n",
            "/usr/local/lib/python3.7/dist-packages/matplotlib/backends/backend_agg.py:183: RuntimeWarning: Glyph 51086 missing from current font.\n",
            "  font.set_text(s, 0, flags=flags)\n",
            "/usr/local/lib/python3.7/dist-packages/matplotlib/backends/backend_agg.py:183: RuntimeWarning: Glyph 44600 missing from current font.\n",
            "  font.set_text(s, 0, flags=flags)\n",
            "/usr/local/lib/python3.7/dist-packages/matplotlib/backends/backend_agg.py:183: RuntimeWarning: Glyph 51060 missing from current font.\n",
            "  font.set_text(s, 0, flags=flags)\n",
            "/usr/local/lib/python3.7/dist-packages/matplotlib/backends/backend_agg.py:183: RuntimeWarning: Glyph 45320 missing from current font.\n",
            "  font.set_text(s, 0, flags=flags)\n",
            "/usr/local/lib/python3.7/dist-packages/matplotlib/backends/backend_agg.py:183: RuntimeWarning: Glyph 48708 missing from current font.\n",
            "  font.set_text(s, 0, flags=flags)\n"
          ]
        },
        {
          "output_type": "display_data",
          "data": {
            "image/png": "[encoded data removed]",
            "text/plain": [
              "<Figure size 792x288 with 1 Axes>"
            ]
          },
          "metadata": {
            "needs_background": "light"
          }
        }
      ]
    },
    {
      "cell_type": "code",
      "metadata": {
        "id": "ZNG84j53Dm6J"
      },
      "source": [
        "# 너무 어려울 경우 https://leechamin.tistory.com/83 참고 "
      ],
      "execution_count": null,
      "outputs": []
    },
    {
      "cell_type": "code",
      "metadata": {
        "id": "xzjkYe45N1nA"
      },
      "source": [
        ""
      ],
      "execution_count": null,
      "outputs": []
    }
  ]
}