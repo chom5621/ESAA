{
  "nbformat": 4,
  "nbformat_minor": 0,
  "metadata": {
    "colab": {
      "name": "비지도학습.ipynb",
      "provenance": [],
      "collapsed_sections": [],
      "include_colab_link": true
    },
    "kernelspec": {
      "name": "python3",
      "display_name": "Python 3"
    },
    "language_info": {
      "name": "python"
    }
  },
  "cells": [
    {
      "cell_type": "markdown",
      "metadata": {
        "id": "view-in-github",
        "colab_type": "text"
      },
      "source": [
        "<a href=\"https://colab.research.google.com/github/chom5621/ESAA/blob/main/%EB%B9%84%EC%A7%80%EB%8F%84%ED%95%99%EC%8A%B5.ipynb\" target=\"_parent\"><img src=\"https://colab.research.google.com/assets/colab-badge.svg\" alt=\"Open In Colab\"/></a>"
      ]
    },
    {
      "cell_type": "markdown",
      "metadata": {
        "id": "KP3yjKZ9vUBf"
      },
      "source": [
        "1. k-평균을 사용할 때 적절한 클러스터 개수를 선택할 수 있는 두 가지 기법을 설명하세요."
      ]
    },
    {
      "cell_type": "markdown",
      "metadata": {
        "id": "_In2ha_mvkhP"
      },
      "source": [
        "**1) 이너셔 그래프를 통한 엘보(elbow) 찾기**\n",
        "- 각 샘플과 가자 가까운 센트로이드 사이의 평균 제곱 거리를 모델의 이너셔라고 부른다.\n",
        "- 가장 작은 이너셔를 가진 모델을 선택하면 된다.\n",
        "- 이너셔 그래프를 클러스터 개수 k의 함수로 그렸을 때 그래프가 꺾이는 지점을 '엘보(elbow)'라고 하며, 이 지점을 최적의 클러스터 개수로 선택할 수 있다.\n",
        "\n",
        "\n",
        "**2) 실루엣 점수**\n",
        "- 모든 샘플에 대한 실루엣 계수의 평균이다. \n",
        "- -1~+1이며, +1에 가까우면 잘 분류되었음을 의미한다.\n",
        "- 실루엣 계수는 (b-a)/max(a,b)로 구한다.\n",
        "  - a는 클러스터 내부의 평균 거리\n",
        "  - b는 가장 가까운 클러스터의 샘플까지 평균 거리\n"
      ]
    },
    {
      "cell_type": "markdown",
      "metadata": {
        "id": "X20R_mjfvnwv"
      },
      "source": [
        "2. 대규모 데이터셋으로 확장할 수 있는 군집 알고리즘 두 개를 말해보세요. 밀도가 높은 지역을 찾는 군집 알고리즘 두 개는 무엇인가요?"
      ]
    },
    {
      "cell_type": "markdown",
      "metadata": {
        "id": "C1BYuuY2vudH"
      },
      "source": [
        "**<대규모 데이터셋으로 확장할 수 있는 군집 알고리즘>**\n",
        "- k-평균 \n",
        "- BIRCH\n",
        "\n",
        "**<밀도가 높은 지역을 찾는 군집 알고리즘>**\n",
        "- DBSCAN\n",
        "- 평균-이동"
      ]
    },
    {
      "cell_type": "markdown",
      "metadata": {
        "id": "FyYxBqVcvv8S"
      },
      "source": [
        "3. 가우시안 혼합이 무엇인가요? 어떤 작업에 사용할 수 있나요?"
      ]
    },
    {
      "cell_type": "markdown",
      "metadata": {
        "id": "iMVxJsCiv1sm"
      },
      "source": [
        "- **가우시안 혼합 모델**은 샘플이 파라미터가 알려지지 않은 여려 개의 혼합된 가우시안 분포에서 생성되었다고 가정하는 확률 모델로, 하나의 가우시안 분포에서 생성된 모든  샘플은 하나의 클러스터를 형성한다.\n",
        "\n",
        "- 이상치 탐지에 사용할 수 있다.\n"
      ]
    },
    {
      "cell_type": "markdown",
      "metadata": {
        "id": "f0H0AFR60RKN"
      },
      "source": [
        "### 설정"
      ]
    },
    {
      "cell_type": "code",
      "metadata": {
        "id": "wl_9tvA50W2l"
      },
      "source": [
        "# 파이썬 ≥3.5 필수\n",
        "import sys\n",
        "assert sys.version_info >= (3, 5)\n",
        "\n",
        "# 사이킷런 ≥0.20 필수\n",
        "import sklearn\n",
        "assert sklearn.__version__ >= \"0.20\"\n",
        "\n",
        "# 공통 모듈 임포트\n",
        "import numpy as np\n",
        "import os\n",
        "\n",
        "# 노트북 실행 결과를 동일하게 유지하기 위해\n",
        "np.random.seed(42)\n",
        "\n",
        "# 깔끔한 그래프 출력을 위해\n",
        "%matplotlib inline\n",
        "import matplotlib as mpl\n",
        "import matplotlib.pyplot as plt\n",
        "mpl.rc('axes', labelsize=14)\n",
        "mpl.rc('xtick', labelsize=12)\n",
        "mpl.rc('ytick', labelsize=12)\n"
      ],
      "execution_count": 1,
      "outputs": []
    },
    {
      "cell_type": "markdown",
      "metadata": {
        "id": "AZAAcNN4v2SL"
      },
      "source": [
        "## 올리베타 얼굴 데이터셋 군집하기"
      ]
    },
    {
      "cell_type": "markdown",
      "metadata": {
        "id": "Pmlh6P5HwWMY"
      },
      "source": [
        "*전통적인 올리베티 얼굴 데이터셋은 64×64 픽셀 크기의 흑백 얼굴 이미지 400개를 담고 있습니다. 각 이미지는 4,096 크기의 1D 벡터로 펼쳐져 있습니다. 사람 40명의 사진을 10장씩 찍은 것입니다. 어떤 사람의 사진인지 예측하는 모델을 훈련하는 것이 일반적입니다. sklearn.datasets.fetch_olivetti_faces() 함수를 사용해 데이터셋을 불러오겠습니다.*"
      ]
    },
    {
      "cell_type": "code",
      "metadata": {
        "colab": {
          "base_uri": "https://localhost:8080/"
        },
        "id": "Q9K0eMS2wb_S",
        "outputId": "efaa5ad8-7865-4c89-f07c-74525663f709"
      },
      "source": [
        "from sklearn.datasets import fetch_olivetti_faces\n",
        "\n",
        "olivetti = fetch_olivetti_faces()\n",
        "print(olivetti.DESCR)"
      ],
      "execution_count": 2,
      "outputs": [
        {
          "output_type": "stream",
          "name": "stdout",
          "text": [
            "downloading Olivetti faces from https://ndownloader.figshare.com/files/5976027 to /root/scikit_learn_data\n",
            ".. _olivetti_faces_dataset:\n",
            "\n",
            "The Olivetti faces dataset\n",
            "--------------------------\n",
            "\n",
            "`This dataset contains a set of face images`_ taken between April 1992 and \n",
            "April 1994 at AT&T Laboratories Cambridge. The\n",
            ":func:`sklearn.datasets.fetch_olivetti_faces` function is the data\n",
            "fetching / caching function that downloads the data\n",
            "archive from AT&T.\n",
            "\n",
            ".. _This dataset contains a set of face images: http://www.cl.cam.ac.uk/research/dtg/attarchive/facedatabase.html\n",
            "\n",
            "As described on the original website:\n",
            "\n",
            "    There are ten different images of each of 40 distinct subjects. For some\n",
            "    subjects, the images were taken at different times, varying the lighting,\n",
            "    facial expressions (open / closed eyes, smiling / not smiling) and facial\n",
            "    details (glasses / no glasses). All the images were taken against a dark\n",
            "    homogeneous background with the subjects in an upright, frontal position \n",
            "    (with tolerance for some side movement).\n",
            "\n",
            "**Data Set Characteristics:**\n",
            "\n",
            "    =================   =====================\n",
            "    Classes                                40\n",
            "    Samples total                         400\n",
            "    Dimensionality                       4096\n",
            "    Features            real, between 0 and 1\n",
            "    =================   =====================\n",
            "\n",
            "The image is quantized to 256 grey levels and stored as unsigned 8-bit \n",
            "integers; the loader will convert these to floating point values on the \n",
            "interval [0, 1], which are easier to work with for many algorithms.\n",
            "\n",
            "The \"target\" for this database is an integer from 0 to 39 indicating the\n",
            "identity of the person pictured; however, with only 10 examples per class, this\n",
            "relatively small dataset is more interesting from an unsupervised or\n",
            "semi-supervised perspective.\n",
            "\n",
            "The original dataset consisted of 92 x 112, while the version available here\n",
            "consists of 64x64 images.\n",
            "\n",
            "When using these images, please give credit to AT&T Laboratories Cambridge.\n",
            "\n"
          ]
        }
      ]
    },
    {
      "cell_type": "code",
      "metadata": {
        "colab": {
          "base_uri": "https://localhost:8080/"
        },
        "id": "qDosl9PxwmHt",
        "outputId": "6f0873fb-2792-4058-a947-e92233616b04"
      },
      "source": [
        "olivetti.target"
      ],
      "execution_count": 3,
      "outputs": [
        {
          "output_type": "execute_result",
          "data": {
            "text/plain": [
              "array([ 0,  0,  0,  0,  0,  0,  0,  0,  0,  0,  1,  1,  1,  1,  1,  1,  1,\n",
              "        1,  1,  1,  2,  2,  2,  2,  2,  2,  2,  2,  2,  2,  3,  3,  3,  3,\n",
              "        3,  3,  3,  3,  3,  3,  4,  4,  4,  4,  4,  4,  4,  4,  4,  4,  5,\n",
              "        5,  5,  5,  5,  5,  5,  5,  5,  5,  6,  6,  6,  6,  6,  6,  6,  6,\n",
              "        6,  6,  7,  7,  7,  7,  7,  7,  7,  7,  7,  7,  8,  8,  8,  8,  8,\n",
              "        8,  8,  8,  8,  8,  9,  9,  9,  9,  9,  9,  9,  9,  9,  9, 10, 10,\n",
              "       10, 10, 10, 10, 10, 10, 10, 10, 11, 11, 11, 11, 11, 11, 11, 11, 11,\n",
              "       11, 12, 12, 12, 12, 12, 12, 12, 12, 12, 12, 13, 13, 13, 13, 13, 13,\n",
              "       13, 13, 13, 13, 14, 14, 14, 14, 14, 14, 14, 14, 14, 14, 15, 15, 15,\n",
              "       15, 15, 15, 15, 15, 15, 15, 16, 16, 16, 16, 16, 16, 16, 16, 16, 16,\n",
              "       17, 17, 17, 17, 17, 17, 17, 17, 17, 17, 18, 18, 18, 18, 18, 18, 18,\n",
              "       18, 18, 18, 19, 19, 19, 19, 19, 19, 19, 19, 19, 19, 20, 20, 20, 20,\n",
              "       20, 20, 20, 20, 20, 20, 21, 21, 21, 21, 21, 21, 21, 21, 21, 21, 22,\n",
              "       22, 22, 22, 22, 22, 22, 22, 22, 22, 23, 23, 23, 23, 23, 23, 23, 23,\n",
              "       23, 23, 24, 24, 24, 24, 24, 24, 24, 24, 24, 24, 25, 25, 25, 25, 25,\n",
              "       25, 25, 25, 25, 25, 26, 26, 26, 26, 26, 26, 26, 26, 26, 26, 27, 27,\n",
              "       27, 27, 27, 27, 27, 27, 27, 27, 28, 28, 28, 28, 28, 28, 28, 28, 28,\n",
              "       28, 29, 29, 29, 29, 29, 29, 29, 29, 29, 29, 30, 30, 30, 30, 30, 30,\n",
              "       30, 30, 30, 30, 31, 31, 31, 31, 31, 31, 31, 31, 31, 31, 32, 32, 32,\n",
              "       32, 32, 32, 32, 32, 32, 32, 33, 33, 33, 33, 33, 33, 33, 33, 33, 33,\n",
              "       34, 34, 34, 34, 34, 34, 34, 34, 34, 34, 35, 35, 35, 35, 35, 35, 35,\n",
              "       35, 35, 35, 36, 36, 36, 36, 36, 36, 36, 36, 36, 36, 37, 37, 37, 37,\n",
              "       37, 37, 37, 37, 37, 37, 38, 38, 38, 38, 38, 38, 38, 38, 38, 38, 39,\n",
              "       39, 39, 39, 39, 39, 39, 39, 39, 39])"
            ]
          },
          "metadata": {},
          "execution_count": 3
        }
      ]
    },
    {
      "cell_type": "markdown",
      "metadata": {
        "id": "foa5Am6Qw7AG"
      },
      "source": [
        "*데이터셋을 훈련 세트, 검증 세트, 테스트 세트로 나누겠습니다(이 데이터셋은 이미 0에서 1 사이로 스케일이 조정되어 있습니다). 이 데이터셋은 매우 작으니 계층적 샘플링을 사용해 각 세트에 동일한 사람의 얼굴이 고루 섞이도록 하는 것이 좋습니다.*"
      ]
    },
    {
      "cell_type": "code",
      "metadata": {
        "id": "YQM1BHLnw--T"
      },
      "source": [
        "from sklearn.model_selection import StratifiedShuffleSplit\n",
        "\n",
        "strat_split = StratifiedShuffleSplit(n_splits=1, test_size=40, random_state=42)\n",
        "train_valid_idx, test_idx = next(strat_split.split(olivetti.data, olivetti.target))\n",
        "X_train_valid = olivetti.data[train_valid_idx]\n",
        "y_train_valid = olivetti.target[train_valid_idx]\n",
        "X_test = olivetti.data[test_idx]\n",
        "y_test = olivetti.target[test_idx]\n",
        "\n",
        "strat_split = StratifiedShuffleSplit(n_splits=1, test_size=80, random_state=43)\n",
        "train_idx, valid_idx = next(strat_split.split(X_train_valid, y_train_valid))\n",
        "X_train = X_train_valid[train_idx]\n",
        "y_train = y_train_valid[train_idx]\n",
        "X_valid = X_train_valid[valid_idx]\n",
        "y_valid = y_train_valid[valid_idx]"
      ],
      "execution_count": 4,
      "outputs": []
    },
    {
      "cell_type": "code",
      "metadata": {
        "id": "N8YexFkKxBDT",
        "colab": {
          "base_uri": "https://localhost:8080/"
        },
        "outputId": "1593ceb1-bc88-442e-d782-ce4badd2687c"
      },
      "source": [
        "print(X_train.shape, y_train.shape)\n",
        "print(X_valid.shape, y_valid.shape)\n",
        "print(X_test.shape, y_test.shape)"
      ],
      "execution_count": 5,
      "outputs": [
        {
          "output_type": "stream",
          "name": "stdout",
          "text": [
            "(280, 4096) (280,)\n",
            "(80, 4096) (80,)\n",
            "(40, 4096) (40,)\n"
          ]
        }
      ]
    },
    {
      "cell_type": "markdown",
      "metadata": {
        "id": "AaLA89hexkRQ"
      },
      "source": [
        "*속도를 높이기 위해 PCA로 데이터 차원을 줄이겠습니다.*"
      ]
    },
    {
      "cell_type": "code",
      "metadata": {
        "id": "CKiK1Ju6xjla",
        "colab": {
          "base_uri": "https://localhost:8080/"
        },
        "outputId": "6a5b0674-2773-414c-f7ea-284668745e81"
      },
      "source": [
        "from sklearn.decomposition import PCA\n",
        "\n",
        "pca = PCA(0.99)\n",
        "X_train_pca = pca.fit_transform(X_train)\n",
        "X_valid_pca = pca.transform(X_valid)\n",
        "X_test_pca = pca.transform(X_test)\n",
        "\n",
        "pca.n_components_"
      ],
      "execution_count": 6,
      "outputs": [
        {
          "output_type": "execute_result",
          "data": {
            "text/plain": [
              "199"
            ]
          },
          "metadata": {},
          "execution_count": 6
        }
      ]
    },
    {
      "cell_type": "markdown",
      "metadata": {
        "id": "ncxYRhBKxKIQ"
      },
      "source": [
        "K-평균을 사용해 이미지를 군집해보겠습니다."
      ]
    },
    {
      "cell_type": "code",
      "metadata": {
        "id": "rvrjLg2lxRoR",
        "colab": {
          "base_uri": "https://localhost:8080/"
        },
        "outputId": "d82dc9a3-904b-4bed-fa7d-4c71db3f36ce"
      },
      "source": [
        "from sklearn.cluster import KMeans\n",
        "\n",
        "k_range = range(5, 150, 5)\n",
        "kmeans_per_k = []\n",
        "for k in k_range:\n",
        "    print(\"k={}\".format(k))\n",
        "    kmeans = KMeans(n_clusters=k, random_state=42).fit(X_train_pca)\n",
        "    kmeans_per_k.append(kmeans)"
      ],
      "execution_count": 7,
      "outputs": [
        {
          "output_type": "stream",
          "name": "stdout",
          "text": [
            "k=5\n",
            "k=10\n",
            "k=15\n",
            "k=20\n",
            "k=25\n",
            "k=30\n",
            "k=35\n",
            "k=40\n",
            "k=45\n",
            "k=50\n",
            "k=55\n",
            "k=60\n",
            "k=65\n",
            "k=70\n",
            "k=75\n",
            "k=80\n",
            "k=85\n",
            "k=90\n",
            "k=95\n",
            "k=100\n",
            "k=105\n",
            "k=110\n",
            "k=115\n",
            "k=120\n",
            "k=125\n",
            "k=130\n",
            "k=135\n",
            "k=140\n",
            "k=145\n"
          ]
        }
      ]
    },
    {
      "cell_type": "markdown",
      "metadata": {
        "id": "t-la2IGOx2wG"
      },
      "source": [
        "**5. 문제 : sklearn.metrics의 silhouette_score과 다음 코드로 보여지는 그래프를 보고 적절한 클러스터 개수를 확인하세요**"
      ]
    },
    {
      "cell_type": "code",
      "metadata": {
        "id": "zkt4wu5ryNMu",
        "colab": {
          "base_uri": "https://localhost:8080/",
          "height": 233
        },
        "outputId": "29e1dc0f-5d09-4c0d-be6c-312ae4d1cf84"
      },
      "source": [
        "from sklearn.metrics import silhouette_score\n",
        "\n",
        "silhouette_scores = [silhouette_score(X_train_pca, model.labels_)\n",
        "                     for model in kmeans_per_k]\n",
        "best_index = np.argmax(silhouette_scores)\n",
        "best_k = k_range[best_index]\n",
        "best_score = silhouette_scores[best_index]\n",
        "\n",
        "plt.figure(figsize=(8, 3))\n",
        "plt.plot(k_range, silhouette_scores, \"bo-\")\n",
        "plt.xlabel(\"$k$\", fontsize=14)\n",
        "plt.ylabel(\"Silhouette score\", fontsize=14)\n",
        "plt.plot(best_k, best_score, \"rs\")\n",
        "plt.show()"
      ],
      "execution_count": 15,
      "outputs": [
        {
          "output_type": "display_data",
          "data": {
            "image/png": "[encoded data removed]",
            "text/plain": [
              "<Figure size 576x216 with 1 Axes>"
            ]
          },
          "metadata": {
            "needs_background": "light"
          }
        }
      ]
    },
    {
      "cell_type": "markdown",
      "source": [
        "- k가 120일 때가 최적의 클러스터 개수로 보임을 실루엣 점수 그래프를 통해 확인할 수 있다."
      ],
      "metadata": {
        "id": "PRzytsYIZ9HH"
      }
    },
    {
      "cell_type": "markdown",
      "metadata": {
        "id": "ZBr53fMzyQoP"
      },
      "source": [
        "**6. 문제 : 이너셔 그래프 (inertias)를 그려보고, 최적의 클러스터 개수를 구할 수 있는지 확인하세요. (엘보우 지점이 있는지 확인해보세요)**\n",
        "\n",
        "힌트: 코드의 각주를 풀고, 문제 5번의 시각화 코드를 조금만 수정해보세요"
      ]
    },
    {
      "cell_type": "code",
      "metadata": {
        "id": "tqDg-xJdynNa"
      },
      "source": [
        "inertias = [model.inertia_ for model in kmeans_per_k]\n",
        "best_inertia = inertias[best_index]"
      ],
      "execution_count": 16,
      "outputs": []
    },
    {
      "cell_type": "code",
      "source": [
        "#best_index = np.argmin(inertias)\n",
        "#best_k = k_range[best_index]\n",
        "\n",
        "plt.figure(figsize=(8, 3))\n",
        "plt.plot(k_range, inertias, \"bo-\")\n",
        "plt.xlabel(\"$k$\", fontsize=14)\n",
        "plt.ylabel(\"inertias\", fontsize=14)\n",
        "plt.plot(best_k, best_inertia, \"rs\")\n",
        "plt.show()"
      ],
      "metadata": {
        "colab": {
          "base_uri": "https://localhost:8080/",
          "height": 233
        },
        "id": "VpmSqeiiaTS0",
        "outputId": "8bdc66f6-2bce-4a04-ec5c-908cb4c6cb4f"
      },
      "execution_count": 17,
      "outputs": [
        {
          "output_type": "display_data",
          "data": {
            "image/png": "[encoded data removed]",
            "text/plain": [
              "<Figure size 576x216 with 1 Axes>"
            ]
          },
          "metadata": {
            "needs_background": "light"
          }
        }
      ]
    },
    {
      "cell_type": "markdown",
      "source": [
        "*  이너셔 그래프를 통해서는, 최적의 cluster 개수 120을 elbow 지점(꺾인 지점)으로 찾을 수 없었다."
      ],
      "metadata": {
        "id": "AegiTL5EbcRm"
      }
    },
    {
      "cell_type": "code",
      "source": [
        ""
      ],
      "metadata": {
        "id": "Zcft_HPPbHZC"
      },
      "execution_count": null,
      "outputs": []
    }
  ]
}